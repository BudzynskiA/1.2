{
 "cells": [
  {
   "cell_type": "code",
   "execution_count": 1,
   "id": "76f130a2",
   "metadata": {},
   "outputs": [],
   "source": [
    "import pandas as pd\n",
    "from sklearn.linear_model import LinearRegression\n",
    "import pickle\n",
    "df = pd.read_csv('DATA.csv',delimiter=';')"
   ]
  },
  {
   "cell_type": "code",
   "execution_count": 2,
   "id": "6914ac5d",
   "metadata": {},
   "outputs": [
    {
     "name": "stdout",
     "output_type": "stream",
     "text": [
      "<class 'pandas.core.frame.DataFrame'>\n",
      "RangeIndex: 323 entries, 0 to 322\n",
      "Data columns (total 55 columns):\n",
      " #   Column               Non-Null Count  Dtype  \n",
      "---  ------               --------------  -----  \n",
      " 0   CLIENT_VAT           208 non-null    object \n",
      " 1   TIMO_ID              34 non-null     float64\n",
      " 2   AT_KM                6 non-null      float64\n",
      " 3   CZ_KM                144 non-null    float64\n",
      " 4   DE_KM                68 non-null     float64\n",
      " 5   EE_KM                32 non-null     float64\n",
      " 6   HU_KM                37 non-null     float64\n",
      " 7   LT_KM                131 non-null    float64\n",
      " 8   LV_KM                62 non-null     float64\n",
      " 9   PL_KM                267 non-null    float64\n",
      " 10  SE_KM                32 non-null     float64\n",
      " 11  SK_KM                93 non-null     float64\n",
      " 12  COMPANY_LP           60 non-null     object \n",
      " 13  ADRESS_LP            55 non-null     object \n",
      " 14  COD_LP               323 non-null    object \n",
      " 15  CITY_LP              77 non-null     object \n",
      " 16  LATITUDE_LP          0 non-null      float64\n",
      " 17  LONGTITUDE_LP        0 non-null      float64\n",
      " 18  START_LOAD_DATA      323 non-null    object \n",
      " 19  START_LOAD_TIME      117 non-null    object \n",
      " 20  END_LOAD_DATA        323 non-null    object \n",
      " 21  END_LOAD_TIME        111 non-null    object \n",
      " 22  COMPANY_DP           42 non-null     object \n",
      " 23  ADRESS_DP            42 non-null     object \n",
      " 24  COD_DP               323 non-null    object \n",
      " 25  CITY_DP              70 non-null     object \n",
      " 26  LATITUDE_DP          0 non-null      float64\n",
      " 27  LONGTITUDE_DP        0 non-null      float64\n",
      " 28  START_DELIVERY_DATA  323 non-null    object \n",
      " 29  START_DELIVERY_TIME  86 non-null     object \n",
      " 30  END_DELIVERY_DATA    323 non-null    object \n",
      " 31  END_DELIVERY_TIME    91 non-null     object \n",
      " 32  VEHICLE_TYPE         323 non-null    object \n",
      " 33  BODY_TYPE            319 non-null    object \n",
      " 34  LOAD_UNLOAD_METHOD   322 non-null    object \n",
      " 35  EPALE                82 non-null     float64\n",
      " 36  GOODS_TYPE           153 non-null    object \n",
      " 37  TEMP_MIN             20 non-null     float64\n",
      " 38  TEMP_MAX             20 non-null     float64\n",
      " 39  EURO                 323 non-null    float64\n",
      " 40  LDM                  323 non-null    float64\n",
      " 41  M3                   4 non-null      float64\n",
      " 42  HEIGHT               3 non-null      float64\n",
      " 43  WIDTH                0 non-null      float64\n",
      " 44  TONS                 323 non-null    float64\n",
      " 45  REQUIREMENTS         2 non-null      object \n",
      " 46  OTHER_COSTS          25 non-null     float64\n",
      " 47  QTY_LOADS            323 non-null    int64  \n",
      " 48  QTY_DELIVERIES       323 non-null    int64  \n",
      " 49  SOURCE               231 non-null    object \n",
      " 50  PAYMENT TERM         195 non-null    float64\n",
      " 51  DOCUMENTS_BY         61 non-null     object \n",
      " 52  CARGO_VALUE_EURO     2 non-null      float64\n",
      " 53  CUSTOMS              4 non-null      float64\n",
      " 54  TIME_OF_ENTRY        38 non-null     object \n",
      "dtypes: float64(28), int64(2), object(25)\n",
      "memory usage: 138.9+ KB\n"
     ]
    }
   ],
   "source": [
    "df.info()"
   ]
  },
  {
   "cell_type": "code",
   "execution_count": 3,
   "id": "915b8df7",
   "metadata": {},
   "outputs": [],
   "source": [
    "df['AT_KM'] = df['AT_KM'].fillna(0)\n",
    "df['CZ_KM'] = df['CZ_KM'].fillna(0)\n",
    "df['DE_KM'] = df['DE_KM'].fillna(0)\n",
    "df['EE_KM'] = df['EE_KM'].fillna(0)\n",
    "df['HU_KM'] = df['HU_KM'].fillna(0)\n",
    "df['LT_KM'] = df['LT_KM'].fillna(0)\n",
    "df['LV_KM'] = df['LV_KM'].fillna(0)\n",
    "df['PL_KM'] = df['PL_KM'].fillna(0)\n",
    "df['SE_KM'] = df['SE_KM'].fillna(0)\n",
    "df['SK_KM'] = df['SK_KM'].fillna(0)\n",
    "\n",
    "x = df[['AT_KM','CZ_KM','DE_KM','EE_KM','HU_KM','LT_KM','LV_KM','PL_KM','SE_KM','SK_KM','LDM','TONS','QTY_LOADS','QTY_DELIVERIES']]\n",
    "y = df[['EURO']]\n",
    "\n",
    "regressor = LinearRegression()\n",
    "\n",
    "#Fitting model with trainig data\n",
    "regressor.fit(x, y)\n",
    "\n",
    "# Saving model to disk\n",
    "# Pickle serializes objects so they can be saved to a file, and loaded in a program again later on.\n",
    "pickle.dump(regressor, open('model.pkl','wb'))"
   ]
  },
  {
   "cell_type": "code",
   "execution_count": null,
   "id": "98bdb04b",
   "metadata": {},
   "outputs": [],
   "source": []
  }
 ],
 "metadata": {
  "kernelspec": {
   "display_name": "Python 3",
   "language": "python",
   "name": "python3"
  },
  "language_info": {
   "codemirror_mode": {
    "name": "ipython",
    "version": 3
   },
   "file_extension": ".py",
   "mimetype": "text/x-python",
   "name": "python",
   "nbconvert_exporter": "python",
   "pygments_lexer": "ipython3",
   "version": "3.8.8"
  }
 },
 "nbformat": 4,
 "nbformat_minor": 5
}
